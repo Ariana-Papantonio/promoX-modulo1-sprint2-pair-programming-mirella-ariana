{
 "cells": [
  {
   "cell_type": "code",
   "execution_count": 4,
   "metadata": {},
   "outputs": [
    {
     "name": "stdout",
     "output_type": "stream",
     "text": [
      "0\n",
      "1\n",
      "2\n",
      "3\n",
      "4\n",
      "5\n"
     ]
    }
   ],
   "source": [
    "#Imprimir los números del 1 al 5 utilizando un bucle for: \n",
    "\n",
    "numeros = range(0,6)\n",
    "for i in numeros: \n",
    "    print(i)\n"
   ]
  },
  {
   "cell_type": "code",
   "execution_count": 8,
   "metadata": {},
   "outputs": [
    {
     "name": "stdout",
     "output_type": "stream",
     "text": [
      "La suma de los diez numeros naturales es:  1\n",
      "La suma de los diez numeros naturales es:  3\n",
      "La suma de los diez numeros naturales es:  6\n",
      "La suma de los diez numeros naturales es:  10\n",
      "La suma de los diez numeros naturales es:  15\n",
      "La suma de los diez numeros naturales es:  21\n",
      "La suma de los diez numeros naturales es:  28\n",
      "La suma de los diez numeros naturales es:  36\n",
      "La suma de los diez numeros naturales es:  45\n",
      "La suma de los diez numeros naturales es:  55\n"
     ]
    }
   ],
   "source": [
    "#2 Calcular la suma de los primeros 10 números naturales utilizando un bucle for\n",
    "\n",
    "suma = 0\n",
    "\n",
    "for i in range(1,11): \n",
    "    suma += i \n",
    "    print('La suma de los diez numeros naturales es: ', suma)\n"
   ]
  },
  {
   "cell_type": "code",
   "execution_count": 10,
   "metadata": {},
   "outputs": [
    {
     "name": "stdout",
     "output_type": "stream",
     "text": [
      "El producto de los elementos de la lista es:  2\n",
      "El producto de los elementos de la lista es:  6\n",
      "El producto de los elementos de la lista es:  24\n",
      "El producto de los elementos de la lista es:  120\n"
     ]
    }
   ],
   "source": [
    "#3 Calcular el producto de los elementos de una lista\n",
    "\n",
    "lista = [2,3,4,5]\n",
    "\n",
    "producto = 1\n",
    "\n",
    "for elemento in lista:\n",
    "    producto*= elemento\n",
    "    print('El producto de los elementos de la lista es: ', producto)\n",
    " "
   ]
  },
  {
   "cell_type": "code",
   "execution_count": 11,
   "metadata": {},
   "outputs": [
    {
     "name": "stdout",
     "output_type": "stream",
     "text": [
      "C\n",
      "a\n",
      "d\n",
      "e\n",
      "n\n",
      "a\n",
      " \n",
      "d\n",
      "e\n",
      " \n",
      "t\n",
      "e\n",
      "x\n",
      "t\n",
      "o\n"
     ]
    }
   ],
   "source": [
    "#Imprimir los caracteres de una cadena de texto\n",
    "\n",
    "cadena = 'Cadena de texto'\n",
    "\n",
    "for caracter in cadena: \n",
    "    print(caracter)"
   ]
  },
  {
   "cell_type": "code",
   "execution_count": 13,
   "metadata": {},
   "outputs": [
    {
     "name": "stdout",
     "output_type": "stream",
     "text": [
      "2\n",
      "4\n",
      "6\n",
      "8\n",
      "10\n",
      "12\n",
      "14\n",
      "16\n",
      "18\n",
      "20\n",
      "22\n",
      "24\n",
      "26\n",
      "28\n",
      "30\n",
      "32\n",
      "34\n",
      "36\n",
      "38\n",
      "40\n",
      "42\n",
      "44\n",
      "46\n",
      "48\n",
      "50\n",
      "52\n",
      "54\n",
      "56\n",
      "58\n",
      "60\n",
      "62\n",
      "64\n",
      "66\n",
      "68\n",
      "70\n",
      "72\n",
      "74\n",
      "76\n",
      "78\n",
      "80\n",
      "82\n",
      "84\n",
      "86\n",
      "88\n",
      "90\n",
      "92\n",
      "94\n",
      "96\n",
      "98\n",
      "100\n"
     ]
    }
   ],
   "source": [
    "#Imprimir los números pares del 1 al 100 utilizando un bucle for\n",
    "\n",
    "for i in range(1,101):\n",
    "    if i % 2 == 0: \n",
    "        print(i)"
   ]
  },
  {
   "cell_type": "code",
   "execution_count": 20,
   "metadata": {},
   "outputs": [
    {
     "ename": "IndentationError",
     "evalue": "expected an indented block after 'if' statement on line 3 (3234922753.py, line 5)",
     "output_type": "error",
     "traceback": [
      "\u001b[1;36m  Cell \u001b[1;32mIn[20], line 5\u001b[1;36m\u001b[0m\n\u001b[1;33m    else:\u001b[0m\n\u001b[1;37m    ^\u001b[0m\n\u001b[1;31mIndentationError\u001b[0m\u001b[1;31m:\u001b[0m expected an indented block after 'if' statement on line 3\n"
     ]
    }
   ],
   "source": [
    "for i in range(1,51):\n",
    "    for j in range(1,i):\n",
    "        if i % j == 0: \n",
    "            \n",
    "    else: \n",
    "        print(f\"({i} es primo\")"
   ]
  },
  {
   "cell_type": "code",
   "execution_count": 23,
   "metadata": {},
   "outputs": [
    {
     "name": "stdout",
     "output_type": "stream",
     "text": [
      "2\n",
      "3\n",
      "5\n",
      "7\n",
      "11\n",
      "13\n",
      "17\n",
      "19\n",
      "23\n",
      "29\n",
      "31\n",
      "37\n",
      "41\n",
      "43\n",
      "47\n"
     ]
    }
   ],
   "source": [
    "#Imprimir los números primos del 1 al 50 utilizando un bucle for\n",
    "\n",
    "def es_primo(numero):\n",
    "    if numero < 2:\n",
    "        return False\n",
    "    for i in range (2, int(numero ** 0.5) + 1):\n",
    "        if numero % i == 0: \n",
    "            return False\n",
    "    return True\n",
    "for numero in range(1,51):\n",
    "        if es_primo(numero):\n",
    "            print(numero)\n",
    "\n",
    "        \n"
   ]
  },
  {
   "cell_type": "code",
   "execution_count": 26,
   "metadata": {},
   "outputs": [
    {
     "name": "stdout",
     "output_type": "stream",
     "text": [
      "El factorial de 5 es: 120\n"
     ]
    }
   ],
   "source": [
    "#Calcular el factorial de un número utilizando un bucle for:\n",
    "\n",
    "numero = int(input('Introducimos número:'))\n",
    "\n",
    "factorial = 1\n",
    "\n",
    "\n",
    "for i in range(1, numero+1):\n",
    "    factorial *= i\n",
    "print(f\"El factorial de {numero} es: {factorial}\")\n"
   ]
  },
  {
   "cell_type": "code",
   "execution_count": 28,
   "metadata": {},
   "outputs": [
    {
     "name": "stdout",
     "output_type": "stream",
     "text": [
      "No es la palabra correcta. La palabra comienza por la letra e\n",
      "No es la palabra correcta. La palabra termina por la letra a\n",
      "No es la palabra correcta. La palabra comienza por la letra e\n",
      "No es la palabra correcta. La palabra termina por la letra a\n",
      "No es la palabra correcta. La palabra comienza por la letra e\n",
      "No es la palabra correcta. La palabra termina por la letra a\n",
      "No es la palabra correcta. La palabra comienza por la letra e\n",
      "No es la palabra correcta. La palabra termina por la letra a\n",
      "No es la palabra correcta. La palabra comienza por la letra e\n",
      "No es la palabra correcta. La palabra termina por la letra a\n"
     ]
    }
   ],
   "source": [
    "#Juego de adivinar palabras utilizando un bucle for\n",
    "\n",
    "palabra_secreta = 'estrella'\n",
    "\n",
    "num_intentos = 5\n",
    "\n",
    "\n",
    "\n",
    "for num_intentos in range(1, num_intentos + 1):\n",
    "    palabra_usuario = input(f'número de intentos: {num_intentos}: adivina la palabra:').lower()\n",
    "\n",
    "    \n",
    "    if palabra_usuario == palabra_secreta:\n",
    "        print('Felicitaciones! Has adivinado la palabra secreta.')\n",
    "        break\n",
    "\n",
    "    else:\n",
    "        print('No es la palabra correcta. Intentalo de nuevo')\n",
    "        if num_intentos == : \n",
    "        print('Lo siento has agotado los intentos'):\n",
    "        {palabra_secreta} \n",
    "\n",
    "    else: \n",
    "   \n",
    "    \n",
    "    print('No es la palabra correcta. La palabra comienza por la letra e')\n",
    "    if palabra_usuario != palabra_secreta:\n",
    "    num_intentos -= 1 \n",
    "    print('No es la palabra correcta. La palabra termina por la letra a')    \n",
    "\n",
    "no me fun\n",
    "\n"
   ]
  }
 ],
 "metadata": {
  "kernelspec": {
   "display_name": "Python 3",
   "language": "python",
   "name": "python3"
  },
  "language_info": {
   "codemirror_mode": {
    "name": "ipython",
    "version": 3
   },
   "file_extension": ".py",
   "mimetype": "text/x-python",
   "name": "python",
   "nbconvert_exporter": "python",
   "pygments_lexer": "ipython3",
   "version": "3.11.9"
  }
 },
 "nbformat": 4,
 "nbformat_minor": 2
}
