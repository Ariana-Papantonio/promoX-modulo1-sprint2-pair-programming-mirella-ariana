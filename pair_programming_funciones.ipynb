{
 "cells": [
  {
   "cell_type": "code",
   "execution_count": 13,
   "metadata": {},
   "outputs": [
    {
     "name": "stdout",
     "output_type": "stream",
     "text": [
      "el area del circulo con 7.0 es: 153.93804002589985\n"
     ]
    },
    {
     "data": {
      "text/plain": [
       "7.0"
      ]
     },
     "execution_count": 13,
     "metadata": {},
     "output_type": "execute_result"
    }
   ],
   "source": [
    "#1 Calcular el área de un círculo.\n",
    "\n",
    "import math\n",
    "\n",
    "def calcular_area_circulo(radio): \n",
    "\n",
    "    radio = float(input('Dime el area del circulo'))\n",
    "    area = math.pi * radio ** 2\n",
    "\n",
    "\n",
    "    print(f'el area del circulo con {radio} es: {area}')\n",
    "    \n",
    "    return radio \n",
    "\n",
    "calcular_area_circulo(20)"
   ]
  },
  {
   "cell_type": "code",
   "execution_count": 39,
   "metadata": {},
   "outputs": [
    {
     "name": "stdout",
     "output_type": "stream",
     "text": [
      "contar caracteres\n"
     ]
    },
    {
     "data": {
      "text/plain": [
       "17"
      ]
     },
     "execution_count": 39,
     "metadata": {},
     "output_type": "execute_result"
    }
   ],
   "source": [
    "#2 Contar la cantidad de caracteres en una cadena. \n",
    "\n",
    "def contar_caracteres(cadena):\n",
    "\n",
    "    cantidad_caracteres = len(cadena)\n",
    "\n",
    "    return cantidad_caracteres\n",
    "\n",
    "cadena = input('Dime una cadena de palabras')\n",
    "print(cadena)\n",
    "contar_caracteres(cadena)"
   ]
  },
  {
   "cell_type": "code",
   "execution_count": 50,
   "metadata": {},
   "outputs": [
    {
     "data": {
      "text/plain": [
       "20.0"
      ]
     },
     "execution_count": 50,
     "metadata": {},
     "output_type": "execute_result"
    }
   ],
   "source": [
    "#4 Calcular el promedio de una lista de números.\n",
    "\n",
    "def calcular_promedio(lista_num): \n",
    "\n",
    "    promedio = sum(lista_num) / len(lista_num)\n",
    "\n",
    "    return promedio \n",
    "\n",
    "\n",
    "lista_num = [3,5,4]\n",
    "\n",
    "calcular_promedio(lista_num)\n",
    "\n",
    "lista_num2 = [10,20,30]\n",
    "\n",
    "calcular_promedio(lista_num2)"
   ]
  },
  {
   "cell_type": "code",
   "execution_count": 9,
   "metadata": {},
   "outputs": [
    {
     "data": {
      "text/plain": [
       "7290"
      ]
     },
     "execution_count": 9,
     "metadata": {},
     "output_type": "execute_result"
    }
   ],
   "source": [
    "#5 Calcular el interés compuesto\n",
    "\n",
    "def calcular_interes_compuesto(capital_inicial, tasa_interes, numero_periodos): \n",
    "\n",
    "    beneficio_final = capital_inicial * (1 + tasa_interes) ** numero_periodos\n",
    "\n",
    "    return beneficio_final \n",
    "        \n",
    "calcular_interes_compuesto(10,2,6)"
   ]
  },
  {
   "cell_type": "markdown",
   "metadata": {},
   "source": []
  }
 ],
 "metadata": {
  "kernelspec": {
   "display_name": "Python 3",
   "language": "python",
   "name": "python3"
  },
  "language_info": {
   "codemirror_mode": {
    "name": "ipython",
    "version": 3
   },
   "file_extension": ".py",
   "mimetype": "text/x-python",
   "name": "python",
   "nbconvert_exporter": "python",
   "pygments_lexer": "ipython3",
   "version": "3.11.9"
  }
 },
 "nbformat": 4,
 "nbformat_minor": 2
}
